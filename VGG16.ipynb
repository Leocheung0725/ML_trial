{
  "nbformat": 4,
  "nbformat_minor": 0,
  "metadata": {
    "colab": {
      "name": "VGG16.ipynb",
      "provenance": [],
      "collapsed_sections": []
    },
    "kernelspec": {
      "name": "python3",
      "display_name": "Python 3"
    },
    "language_info": {
      "name": "python"
    },
    "accelerator": "GPU",
    "gpuClass": "standard"
  },
  "cells": [
    {
      "cell_type": "code",
      "execution_count": 1,
      "metadata": {
        "id": "7uuq98wF_Flu",
        "colab": {
          "base_uri": "https://localhost:8080/"
        },
        "outputId": "6ef25555-f4b7-43c5-ecf6-635182fad699"
      },
      "outputs": [
        {
          "output_type": "stream",
          "name": "stdout",
          "text": [
            "Num GPUs Available:  1\n"
          ]
        }
      ],
      "source": [
        "#CNN\n",
        "#VGG16\n",
        "import tensorflow as tf\n",
        "from tensorflow import keras\n",
        "\n",
        "import numpy as np\n",
        "import pandas as pd\n",
        "import matplotlib.pyplot as plt\n",
        "\n",
        "print(\"Num GPUs Available: \", len(tf.config.list_physical_devices('GPU')))"
      ]
    },
    {
      "cell_type": "code",
      "source": [
        "#import the dataset\n",
        "(x_train, y_train), (x_test, y_test) = keras.datasets.cifar10.load_data()\n",
        "label_names = ['airplane', 'automobile', 'bird', 'cat', 'deer', 'dog', 'frog', 'horse', 'ship', 'truck']\n",
        "#Transform to tensor dataset\n",
        "train_ds = tf.data.Dataset.from_tensor_slices((x_train,y_train))\n",
        "test_ds = tf.data.Dataset.from_tensor_slices((x_test,y_test))"
      ],
      "metadata": {
        "id": "fp5e1NFlELYw",
        "colab": {
          "base_uri": "https://localhost:8080/"
        },
        "outputId": "fe61423b-3aab-42ac-bd83-54c18b5d32c8"
      },
      "execution_count": 2,
      "outputs": [
        {
          "output_type": "stream",
          "name": "stdout",
          "text": [
            "Downloading data from https://www.cs.toronto.edu/~kriz/cifar-10-python.tar.gz\n",
            "170500096/170498071 [==============================] - 4s 0us/step\n",
            "170508288/170498071 [==============================] - 4s 0us/step\n"
          ]
        }
      ]
    },
    {
      "cell_type": "code",
      "source": [
        "#preprocess the data\n",
        "def process_image(image,label):\n",
        "    image=tf.image.per_image_standardization(image)\n",
        "    image=tf.image.resize(image,(64,64))\n",
        "    return image,label\n",
        "\n",
        "train_ds_size=tf.data.experimental.cardinality(train_ds).numpy()\n",
        "test_ds_size=tf.data.experimental.cardinality(test_ds).numpy()\n",
        "print('Train size:',train_ds_size)\n",
        "print('Test size:',test_ds_size)\n",
        "\n",
        "#Data transformation\n",
        "train_ds=(train_ds\n",
        "          .map(process_image)\n",
        "          .shuffle(buffer_size = 45000)\n",
        "          .batch(batch_size=32,drop_remainder=True)\n",
        "         )\n",
        "test_ds=(test_ds\n",
        "          .map(process_image)\n",
        "          .shuffle(buffer_size=10000)\n",
        "          .batch(batch_size=32,drop_remainder=True)\n",
        "         )\n"
      ],
      "metadata": {
        "id": "lU6H4z5QUg6Z",
        "colab": {
          "base_uri": "https://localhost:8080/"
        },
        "outputId": "0618968a-ce3c-4edd-d19e-963f921467bf"
      },
      "execution_count": 3,
      "outputs": [
        {
          "output_type": "stream",
          "name": "stdout",
          "text": [
            "Train size: 50000\n",
            "Test size: 10000\n"
          ]
        }
      ]
    },
    {
      "cell_type": "code",
      "source": [
        "#setup the model\n",
        "VGG16 = keras.models.Sequential([\n",
        "  keras.layers.Conv2D(64, 3, activation=\"relu\", padding=\"same\", input_shape=[64, 64, 3]), #Conv1-1\n",
        "  keras.layers.Conv2D(64, 3, padding=\"same\"), #Conv1-2 \n",
        "  keras.layers.BatchNormalization(),\n",
        "  keras.layers.Activation(keras.activations.relu),\n",
        "  keras.layers.MaxPooling2D(2), #Pool1\n",
        "  keras.layers.Conv2D(128, 3, activation=\"relu\", padding=\"same\"), #Conv2-1\n",
        "  keras.layers.Conv2D(128, 3, padding=\"same\"), #Conv2-2 \n",
        "  keras.layers.BatchNormalization(),\n",
        "  keras.layers.Activation(keras.activations.relu),\n",
        "  keras.layers.MaxPooling2D(2), #Pool2\n",
        "  keras.layers.Conv2D(256, 3, activation=\"relu\", padding=\"same\"), #Conv3-1\n",
        "  keras.layers.Conv2D(256, 3, padding=\"same\"), #Conv3-2 \n",
        "  keras.layers.BatchNormalization(),\n",
        "  keras.layers.Activation(keras.activations.relu),\n",
        "  keras.layers.MaxPooling2D(2), #Pool3\n",
        "  keras.layers.Conv2D(512, 3, activation=\"relu\", padding=\"same\"), #Conv4-1\n",
        "  keras.layers.Conv2D(512, 3, activation=\"relu\", padding=\"same\"), #Conv4-2\n",
        "  keras.layers.Conv2D(512, 3, padding=\"same\"), #Conv4-3\n",
        "  keras.layers.BatchNormalization(),\n",
        "  keras.layers.Activation(keras.activations.relu),\n",
        "  keras.layers.MaxPooling2D(2), #Pool4\n",
        "  keras.layers.Conv2D(512, 3, activation=\"relu\", padding=\"same\"), #Conv5-1\n",
        "  keras.layers.Conv2D(512, 3, activation=\"relu\", padding=\"same\"), #Conv5-2\n",
        "  keras.layers.Conv2D(512, 3, padding=\"same\"), #Conv5-3\n",
        "  keras.layers.BatchNormalization(),\n",
        "  keras.layers.Activation(keras.activations.relu),\n",
        "  keras.layers.MaxPooling2D(2), #Pool5\n",
        "  keras.layers.Flatten(),\n",
        "  keras.layers.Dense(1024,activation='relu'),\n",
        "  keras.layers.Dropout(0.5),\n",
        "  keras.layers.Dense(1024,activation='relu'),\n",
        "  keras.layers.Dropout(0.5),\n",
        "  keras.layers.Dense(10,activation='softmax'),\n",
        "]\n",
        ")"
      ],
      "metadata": {
        "id": "9JWL02oPZy0G"
      },
      "execution_count": 12,
      "outputs": []
    },
    {
      "cell_type": "code",
      "source": [
        "VGG16.summary()"
      ],
      "metadata": {
        "id": "3dY9Zli0Zy6T",
        "colab": {
          "base_uri": "https://localhost:8080/"
        },
        "outputId": "0a099b38-9662-41f2-dd3b-eaec76018fef"
      },
      "execution_count": 13,
      "outputs": [
        {
          "output_type": "stream",
          "name": "stdout",
          "text": [
            "Model: \"sequential_2\"\n",
            "_________________________________________________________________\n",
            " Layer (type)                Output Shape              Param #   \n",
            "=================================================================\n",
            " conv2d_26 (Conv2D)          (None, 64, 64, 64)        1792      \n",
            "                                                                 \n",
            " conv2d_27 (Conv2D)          (None, 64, 64, 64)        36928     \n",
            "                                                                 \n",
            " batch_normalization_9 (Batc  (None, 64, 64, 64)       256       \n",
            " hNormalization)                                                 \n",
            "                                                                 \n",
            " activation_1 (Activation)   (None, 64, 64, 64)        0         \n",
            "                                                                 \n",
            " max_pooling2d_10 (MaxPoolin  (None, 32, 32, 64)       0         \n",
            " g2D)                                                            \n",
            "                                                                 \n",
            " conv2d_28 (Conv2D)          (None, 32, 32, 128)       73856     \n",
            "                                                                 \n",
            " conv2d_29 (Conv2D)          (None, 32, 32, 128)       147584    \n",
            "                                                                 \n",
            " batch_normalization_10 (Bat  (None, 32, 32, 128)      512       \n",
            " chNormalization)                                                \n",
            "                                                                 \n",
            " activation_2 (Activation)   (None, 32, 32, 128)       0         \n",
            "                                                                 \n",
            " max_pooling2d_11 (MaxPoolin  (None, 16, 16, 128)      0         \n",
            " g2D)                                                            \n",
            "                                                                 \n",
            " conv2d_30 (Conv2D)          (None, 16, 16, 256)       295168    \n",
            "                                                                 \n",
            " conv2d_31 (Conv2D)          (None, 16, 16, 256)       590080    \n",
            "                                                                 \n",
            " batch_normalization_11 (Bat  (None, 16, 16, 256)      1024      \n",
            " chNormalization)                                                \n",
            "                                                                 \n",
            " activation_3 (Activation)   (None, 16, 16, 256)       0         \n",
            "                                                                 \n",
            " max_pooling2d_12 (MaxPoolin  (None, 8, 8, 256)        0         \n",
            " g2D)                                                            \n",
            "                                                                 \n",
            " conv2d_32 (Conv2D)          (None, 8, 8, 512)         1180160   \n",
            "                                                                 \n",
            " conv2d_33 (Conv2D)          (None, 8, 8, 512)         2359808   \n",
            "                                                                 \n",
            " conv2d_34 (Conv2D)          (None, 8, 8, 512)         2359808   \n",
            "                                                                 \n",
            " batch_normalization_12 (Bat  (None, 8, 8, 512)        2048      \n",
            " chNormalization)                                                \n",
            "                                                                 \n",
            " activation_4 (Activation)   (None, 8, 8, 512)         0         \n",
            "                                                                 \n",
            " max_pooling2d_13 (MaxPoolin  (None, 4, 4, 512)        0         \n",
            " g2D)                                                            \n",
            "                                                                 \n",
            " conv2d_35 (Conv2D)          (None, 4, 4, 512)         2359808   \n",
            "                                                                 \n",
            " conv2d_36 (Conv2D)          (None, 4, 4, 512)         2359808   \n",
            "                                                                 \n",
            " conv2d_37 (Conv2D)          (None, 4, 4, 512)         2359808   \n",
            "                                                                 \n",
            " batch_normalization_13 (Bat  (None, 4, 4, 512)        2048      \n",
            " chNormalization)                                                \n",
            "                                                                 \n",
            " activation_5 (Activation)   (None, 4, 4, 512)         0         \n",
            "                                                                 \n",
            " max_pooling2d_14 (MaxPoolin  (None, 2, 2, 512)        0         \n",
            " g2D)                                                            \n",
            "                                                                 \n",
            " flatten_2 (Flatten)         (None, 2048)              0         \n",
            "                                                                 \n",
            " dense_6 (Dense)             (None, 1024)              2098176   \n",
            "                                                                 \n",
            " dropout_4 (Dropout)         (None, 1024)              0         \n",
            "                                                                 \n",
            " dense_7 (Dense)             (None, 1024)              1049600   \n",
            "                                                                 \n",
            " dropout_5 (Dropout)         (None, 1024)              0         \n",
            "                                                                 \n",
            " dense_8 (Dense)             (None, 10)                10250     \n",
            "                                                                 \n",
            "=================================================================\n",
            "Total params: 17,288,522\n",
            "Trainable params: 17,285,578\n",
            "Non-trainable params: 2,944\n",
            "_________________________________________________________________\n"
          ]
        }
      ]
    },
    {
      "cell_type": "code",
      "source": [
        "VGG16.compile(\n",
        "    loss='sparse_categorical_crossentropy',\n",
        "    optimizer=tf.optimizers.SGD(learning_rate=0.001),\n",
        "    metrics=['accuracy']    \n",
        ")"
      ],
      "metadata": {
        "id": "Z-djh2kxkc0w"
      },
      "execution_count": 14,
      "outputs": []
    },
    {
      "cell_type": "code",
      "source": [
        "#20 epochs\n",
        "history = VGG16.fit(\n",
        "    train_ds,\n",
        "    epochs=20,\n",
        "    validation_data = test_ds,\n",
        "    validation_freq=1\n",
        ")"
      ],
      "metadata": {
        "id": "z9i6vBzjkfDw",
        "colab": {
          "base_uri": "https://localhost:8080/"
        },
        "outputId": "b75021f5-304a-49d1-f2ef-9935ad75259e"
      },
      "execution_count": 15,
      "outputs": [
        {
          "output_type": "stream",
          "name": "stdout",
          "text": [
            "Epoch 1/20\n",
            "1562/1562 [==============================] - 86s 53ms/step - loss: 1.8417 - accuracy: 0.3316 - val_loss: 1.4646 - val_accuracy: 0.4656\n",
            "Epoch 2/20\n",
            "1562/1562 [==============================] - 86s 53ms/step - loss: 1.4650 - accuracy: 0.4687 - val_loss: 1.3436 - val_accuracy: 0.5189\n",
            "Epoch 3/20\n",
            "1562/1562 [==============================] - 86s 53ms/step - loss: 1.2769 - accuracy: 0.5448 - val_loss: 1.2499 - val_accuracy: 0.5486\n",
            "Epoch 4/20\n",
            "1562/1562 [==============================] - 86s 53ms/step - loss: 1.1319 - accuracy: 0.5966 - val_loss: 1.1810 - val_accuracy: 0.5798\n",
            "Epoch 5/20\n",
            "1562/1562 [==============================] - 86s 53ms/step - loss: 1.0164 - accuracy: 0.6420 - val_loss: 1.2231 - val_accuracy: 0.5910\n",
            "Epoch 6/20\n",
            "1562/1562 [==============================] - 86s 53ms/step - loss: 0.9213 - accuracy: 0.6765 - val_loss: 0.9865 - val_accuracy: 0.6611\n",
            "Epoch 7/20\n",
            "1562/1562 [==============================] - 86s 53ms/step - loss: 0.8384 - accuracy: 0.7074 - val_loss: 0.9127 - val_accuracy: 0.6846\n",
            "Epoch 8/20\n",
            "1562/1562 [==============================] - 86s 53ms/step - loss: 0.7587 - accuracy: 0.7347 - val_loss: 0.9175 - val_accuracy: 0.6784\n",
            "Epoch 9/20\n",
            "1562/1562 [==============================] - 86s 53ms/step - loss: 0.7004 - accuracy: 0.7568 - val_loss: 0.9903 - val_accuracy: 0.6690\n",
            "Epoch 10/20\n",
            "1562/1562 [==============================] - 86s 53ms/step - loss: 0.6357 - accuracy: 0.7780 - val_loss: 0.9233 - val_accuracy: 0.6902\n",
            "Epoch 11/20\n",
            "1562/1562 [==============================] - 86s 53ms/step - loss: 0.5784 - accuracy: 0.7995 - val_loss: 0.7480 - val_accuracy: 0.7481\n",
            "Epoch 12/20\n",
            "1562/1562 [==============================] - 85s 53ms/step - loss: 0.5133 - accuracy: 0.8233 - val_loss: 0.8135 - val_accuracy: 0.7313\n",
            "Epoch 13/20\n",
            "1562/1562 [==============================] - 87s 54ms/step - loss: 0.4632 - accuracy: 0.8400 - val_loss: 0.7497 - val_accuracy: 0.7529\n",
            "Epoch 14/20\n",
            "1562/1562 [==============================] - 91s 57ms/step - loss: 0.4059 - accuracy: 0.8591 - val_loss: 0.7745 - val_accuracy: 0.7514\n",
            "Epoch 15/20\n",
            "1562/1562 [==============================] - 86s 53ms/step - loss: 0.3607 - accuracy: 0.8754 - val_loss: 0.7616 - val_accuracy: 0.7617\n",
            "Epoch 16/20\n",
            "1562/1562 [==============================] - 86s 53ms/step - loss: 0.3113 - accuracy: 0.8913 - val_loss: 0.8510 - val_accuracy: 0.7396\n",
            "Epoch 17/20\n",
            "1562/1562 [==============================] - 86s 53ms/step - loss: 0.2673 - accuracy: 0.9081 - val_loss: 0.9595 - val_accuracy: 0.7382\n",
            "Epoch 18/20\n",
            "1562/1562 [==============================] - 85s 53ms/step - loss: 0.2271 - accuracy: 0.9212 - val_loss: 0.9645 - val_accuracy: 0.7402\n",
            "Epoch 19/20\n",
            "1562/1562 [==============================] - 86s 53ms/step - loss: 0.1880 - accuracy: 0.9354 - val_loss: 1.2465 - val_accuracy: 0.7044\n",
            "Epoch 20/20\n",
            "1562/1562 [==============================] - 85s 53ms/step - loss: 0.1619 - accuracy: 0.9440 - val_loss: 1.3066 - val_accuracy: 0.6960\n"
          ]
        }
      ]
    },
    {
      "cell_type": "code",
      "source": [
        "pd.DataFrame(history.history).plot(figsize=(8, 5))\n",
        "plt.grid(True)\n",
        "plt.gca().set_ylim(0, 2.3) # set the vertical range to [0-1]\n",
        "plt.show()"
      ],
      "metadata": {
        "id": "eP6wcF2zk6gE",
        "colab": {
          "base_uri": "https://localhost:8080/",
          "height": 320
        },
        "outputId": "ed01c663-3a7f-49a8-bdb9-29d858b10a5c"
      },
      "execution_count": 16,
      "outputs": [
        {
          "output_type": "display_data",
          "data": {
            "text/plain": [
              "<Figure size 576x360 with 1 Axes>"
            ],
            "image/png": "[encoded data removed]"
          },
          "metadata": {
            "needs_background": "light"
          }
        }
      ]
    }
  ]
}