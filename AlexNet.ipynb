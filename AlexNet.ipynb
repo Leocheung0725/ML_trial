{
  "nbformat": 4,
  "nbformat_minor": 0,
  "metadata": {
    "colab": {
      "name": "Untitled0.ipynb",
      "provenance": [],
      "collapsed_sections": []
    },
    "kernelspec": {
      "name": "python3",
      "display_name": "Python 3"
    },
    "language_info": {
      "name": "python"
    },
    "accelerator": "GPU",
    "gpuClass": "standard"
  },
  "cells": [
    {
      "cell_type": "code",
      "execution_count": 1,
      "metadata": {
        "colab": {
          "base_uri": "https://localhost:8080/"
        },
        "id": "ooW2qRn_MPpd",
        "outputId": "37acdc99-c27d-40b0-fbcb-f4c5278b6f3c"
      },
      "outputs": [
        {
          "output_type": "stream",
          "name": "stdout",
          "text": [
            "Num GPUs Available:  1\n"
          ]
        }
      ],
      "source": [
        "#CNN\n",
        "#AlexNet\n",
        "import tensorflow as tf\n",
        "from tensorflow import keras\n",
        "\n",
        "import numpy as np\n",
        "import pandas as pd\n",
        "import matplotlib.pyplot as plt\n",
        "\n",
        "print(\"Num GPUs Available: \", len(tf.config.list_physical_devices('GPU')))"
      ]
    },
    {
      "cell_type": "code",
      "source": [
        "#import the dataset\n",
        "(x_train, y_train), (x_test, y_test) = keras.datasets.cifar10.load_data()\n"
      ],
      "metadata": {
        "id": "J0l9ntn7MQoR"
      },
      "execution_count": 37,
      "outputs": []
    },
    {
      "cell_type": "code",
      "source": [
        "label_names = ['airplane', 'automobile', 'bird', 'cat', 'deer', 'dog', 'frog', 'horse', 'ship', 'truck']"
      ],
      "metadata": {
        "id": "Myud2iCOQYfz"
      },
      "execution_count": 36,
      "outputs": []
    },
    {
      "cell_type": "code",
      "source": [
        "#Transform to tensor dataset\n",
        "train_ds = tf.data.Dataset.from_tensor_slices((x_train,y_train))\n",
        "test_ds = tf.data.Dataset.from_tensor_slices((x_test,y_test))\n",
        "#each element contains two subelement, including x (32, 32, 3) and y (1 value)"
      ],
      "metadata": {
        "id": "vGGu3qkMSs8F"
      },
      "execution_count": 43,
      "outputs": []
    },
    {
      "cell_type": "code",
      "source": [
        "#preprocess the data\n",
        "def process_image(image,label):\n",
        "    image=tf.image.per_image_standardization(image)\n",
        "    image=tf.image.resize(image,(64,64))\n",
        "    \n",
        "    return image,label"
      ],
      "metadata": {
        "id": "5UyxBlR1V50R"
      },
      "execution_count": 44,
      "outputs": []
    },
    {
      "cell_type": "code",
      "source": [
        "train_ds_size=tf.data.experimental.cardinality(train_ds).numpy()\n",
        "test_ds_size=tf.data.experimental.cardinality(test_ds).numpy()\n",
        "print('Train size:',train_ds_size)\n",
        "print('Test size:',test_ds_size)"
      ],
      "metadata": {
        "colab": {
          "base_uri": "https://localhost:8080/"
        },
        "id": "hE78tTbLi7zT",
        "outputId": "f3e2fc70-60ce-4693-bc3e-85b89f2ee1d7"
      },
      "execution_count": 45,
      "outputs": [
        {
          "output_type": "stream",
          "name": "stdout",
          "text": [
            "Train size: 50000\n",
            "Test size: 10000\n"
          ]
        }
      ]
    },
    {
      "cell_type": "code",
      "source": [
        "#Data transformation\n",
        "train_ds=(train_ds\n",
        "          .map(process_image)\n",
        "          .shuffle(buffer_size = 45000)\n",
        "          .batch(batch_size=32,drop_remainder=True)\n",
        "         )\n",
        "test_ds=(test_ds\n",
        "          .map(process_image)\n",
        "          .shuffle(buffer_size=10000)\n",
        "          .batch(batch_size=32,drop_remainder=True)\n",
        "         )\n",
        "\n"
      ],
      "metadata": {
        "id": "i-VGeHVDWUy0"
      },
      "execution_count": 46,
      "outputs": []
    },
    {
      "cell_type": "code",
      "source": [
        "AlexNet = keras.models.Sequential([\n",
        "  keras.layers.Conv2D(96, 11, activation=\"relu\", strides=(4,4), input_shape=[64, 64, 3]),\n",
        "  keras.layers.MaxPooling2D(2),\n",
        "  keras.layers.BatchNormalization(),\n",
        "  keras.layers.Conv2D(256, 5, activation=\"relu\", padding=\"same\"),\n",
        "  keras.layers.MaxPooling2D(3),\n",
        "  keras.layers.BatchNormalization(),\n",
        "  keras.layers.Conv2D(256, 3, activation=\"relu\", padding=\"same\"),\n",
        "  keras.layers.Conv2D(256, 1, activation=\"relu\", padding=\"same\"),\n",
        "  keras.layers.Conv2D(256, 1, activation=\"relu\", padding=\"same\"),\n",
        "  keras.layers.MaxPooling2D(2),\n",
        "  keras.layers.Flatten(),\n",
        "  keras.layers.Dense(1024,activation='relu'),\n",
        "  keras.layers.Dropout(0.5),\n",
        "  keras.layers.Dense(1024,activation='relu'),\n",
        "  keras.layers.Dropout(0.5),\n",
        "  keras.layers.Dense(10,activation='softmax'),\n",
        "]\n",
        ")"
      ],
      "metadata": {
        "id": "n1NkbJlkjG3w"
      },
      "execution_count": 48,
      "outputs": []
    },
    {
      "cell_type": "code",
      "source": [
        "AlexNet.summary()"
      ],
      "metadata": {
        "colab": {
          "base_uri": "https://localhost:8080/"
        },
        "id": "3_Mb7Q_ZoRmG",
        "outputId": "0ea8f3c4-dbe5-4449-cf4e-ef9354208b5c"
      },
      "execution_count": 49,
      "outputs": [
        {
          "output_type": "stream",
          "name": "stdout",
          "text": [
            "Model: \"sequential_2\"\n",
            "_________________________________________________________________\n",
            " Layer (type)                Output Shape              Param #   \n",
            "=================================================================\n",
            " conv2d_10 (Conv2D)          (None, 14, 14, 96)        34944     \n",
            "                                                                 \n",
            " max_pooling2d_6 (MaxPooling  (None, 7, 7, 96)         0         \n",
            " 2D)                                                             \n",
            "                                                                 \n",
            " batch_normalization_4 (Batc  (None, 7, 7, 96)         384       \n",
            " hNormalization)                                                 \n",
            "                                                                 \n",
            " conv2d_11 (Conv2D)          (None, 7, 7, 256)         614656    \n",
            "                                                                 \n",
            " max_pooling2d_7 (MaxPooling  (None, 2, 2, 256)        0         \n",
            " 2D)                                                             \n",
            "                                                                 \n",
            " batch_normalization_5 (Batc  (None, 2, 2, 256)        1024      \n",
            " hNormalization)                                                 \n",
            "                                                                 \n",
            " conv2d_12 (Conv2D)          (None, 2, 2, 256)         590080    \n",
            "                                                                 \n",
            " conv2d_13 (Conv2D)          (None, 2, 2, 256)         65792     \n",
            "                                                                 \n",
            " conv2d_14 (Conv2D)          (None, 2, 2, 256)         65792     \n",
            "                                                                 \n",
            " max_pooling2d_8 (MaxPooling  (None, 1, 1, 256)        0         \n",
            " 2D)                                                             \n",
            "                                                                 \n",
            " flatten_2 (Flatten)         (None, 256)               0         \n",
            "                                                                 \n",
            " dense_6 (Dense)             (None, 1024)              263168    \n",
            "                                                                 \n",
            " dropout_4 (Dropout)         (None, 1024)              0         \n",
            "                                                                 \n",
            " dense_7 (Dense)             (None, 1024)              1049600   \n",
            "                                                                 \n",
            " dropout_5 (Dropout)         (None, 1024)              0         \n",
            "                                                                 \n",
            " dense_8 (Dense)             (None, 10)                10250     \n",
            "                                                                 \n",
            "=================================================================\n",
            "Total params: 2,695,690\n",
            "Trainable params: 2,694,986\n",
            "Non-trainable params: 704\n",
            "_________________________________________________________________\n"
          ]
        }
      ]
    },
    {
      "cell_type": "code",
      "source": [
        "AlexNet.compile(\n",
        "    loss='sparse_categorical_crossentropy',\n",
        "    optimizer=tf.optimizers.SGD(learning_rate=0.001),\n",
        "    metrics=['accuracy']    \n",
        ")"
      ],
      "metadata": {
        "id": "gEDTXNjCpeyK"
      },
      "execution_count": 50,
      "outputs": []
    },
    {
      "cell_type": "code",
      "source": [
        "history=AlexNet.fit(\n",
        "    train_ds,\n",
        "    epochs=30,\n",
        "    validation_data = test_ds,\n",
        "    validation_freq=1\n",
        ")\n"
      ],
      "metadata": {
        "colab": {
          "base_uri": "https://localhost:8080/"
        },
        "id": "VZsWF2ZHoYFv",
        "outputId": "45a4db7b-2acb-4351-bfa4-f193fe081ff2"
      },
      "execution_count": 51,
      "outputs": [
        {
          "output_type": "stream",
          "name": "stdout",
          "text": [
            "Epoch 1/30\n",
            "1562/1562 [==============================] - 17s 8ms/step - loss: 2.2131 - accuracy: 0.1676 - val_loss: 1.9978 - val_accuracy: 0.2927\n",
            "Epoch 2/30\n",
            "1562/1562 [==============================] - 16s 8ms/step - loss: 1.9657 - accuracy: 0.2629 - val_loss: 1.7677 - val_accuracy: 0.3625\n",
            "Epoch 3/30\n",
            "1562/1562 [==============================] - 16s 8ms/step - loss: 1.7877 - accuracy: 0.3326 - val_loss: 1.6109 - val_accuracy: 0.4198\n",
            "Epoch 4/30\n",
            "1562/1562 [==============================] - 15s 8ms/step - loss: 1.6389 - accuracy: 0.3951 - val_loss: 1.4658 - val_accuracy: 0.4759\n",
            "Epoch 5/30\n",
            "1562/1562 [==============================] - 16s 8ms/step - loss: 1.5092 - accuracy: 0.4469 - val_loss: 1.3588 - val_accuracy: 0.5100\n",
            "Epoch 6/30\n",
            "1562/1562 [==============================] - 15s 8ms/step - loss: 1.3960 - accuracy: 0.4918 - val_loss: 1.2757 - val_accuracy: 0.5391\n",
            "Epoch 7/30\n",
            "1562/1562 [==============================] - 16s 8ms/step - loss: 1.3101 - accuracy: 0.5248 - val_loss: 1.2086 - val_accuracy: 0.5594\n",
            "Epoch 8/30\n",
            "1562/1562 [==============================] - 16s 8ms/step - loss: 1.2307 - accuracy: 0.5555 - val_loss: 1.1541 - val_accuracy: 0.5799\n",
            "Epoch 9/30\n",
            "1562/1562 [==============================] - 17s 9ms/step - loss: 1.1555 - accuracy: 0.5847 - val_loss: 1.1121 - val_accuracy: 0.5994\n",
            "Epoch 10/30\n",
            "1562/1562 [==============================] - 16s 8ms/step - loss: 1.0949 - accuracy: 0.6066 - val_loss: 1.0711 - val_accuracy: 0.6173\n",
            "Epoch 11/30\n",
            "1562/1562 [==============================] - 16s 8ms/step - loss: 1.0277 - accuracy: 0.6323 - val_loss: 1.0322 - val_accuracy: 0.6360\n",
            "Epoch 12/30\n",
            "1562/1562 [==============================] - 16s 8ms/step - loss: 0.9692 - accuracy: 0.6559 - val_loss: 1.0019 - val_accuracy: 0.6482\n",
            "Epoch 13/30\n",
            "1562/1562 [==============================] - 16s 8ms/step - loss: 0.9228 - accuracy: 0.6723 - val_loss: 0.9772 - val_accuracy: 0.6573\n",
            "Epoch 14/30\n",
            "1562/1562 [==============================] - 16s 8ms/step - loss: 0.8634 - accuracy: 0.6951 - val_loss: 0.9614 - val_accuracy: 0.6665\n",
            "Epoch 15/30\n",
            "1562/1562 [==============================] - 16s 9ms/step - loss: 0.8185 - accuracy: 0.7116 - val_loss: 0.9483 - val_accuracy: 0.6699\n",
            "Epoch 16/30\n",
            "1562/1562 [==============================] - 16s 8ms/step - loss: 0.7664 - accuracy: 0.7287 - val_loss: 0.9280 - val_accuracy: 0.6816\n",
            "Epoch 17/30\n",
            "1562/1562 [==============================] - 16s 8ms/step - loss: 0.7206 - accuracy: 0.7466 - val_loss: 0.9371 - val_accuracy: 0.6788\n",
            "Epoch 18/30\n",
            "1562/1562 [==============================] - 16s 8ms/step - loss: 0.6722 - accuracy: 0.7648 - val_loss: 0.9304 - val_accuracy: 0.6886\n",
            "Epoch 19/30\n",
            "1562/1562 [==============================] - 16s 8ms/step - loss: 0.6236 - accuracy: 0.7827 - val_loss: 0.9368 - val_accuracy: 0.6907\n",
            "Epoch 20/30\n",
            "1562/1562 [==============================] - 16s 8ms/step - loss: 0.5833 - accuracy: 0.7963 - val_loss: 0.9552 - val_accuracy: 0.6844\n",
            "Epoch 21/30\n",
            "1562/1562 [==============================] - 16s 8ms/step - loss: 0.5375 - accuracy: 0.8122 - val_loss: 0.9993 - val_accuracy: 0.6822\n",
            "Epoch 22/30\n",
            "1562/1562 [==============================] - 16s 8ms/step - loss: 0.4969 - accuracy: 0.8253 - val_loss: 0.9569 - val_accuracy: 0.6966\n",
            "Epoch 23/30\n",
            "1562/1562 [==============================] - 16s 8ms/step - loss: 0.4538 - accuracy: 0.8405 - val_loss: 1.0319 - val_accuracy: 0.6858\n",
            "Epoch 24/30\n",
            "1562/1562 [==============================] - 16s 8ms/step - loss: 0.4136 - accuracy: 0.8566 - val_loss: 1.0326 - val_accuracy: 0.6881\n",
            "Epoch 25/30\n",
            "1562/1562 [==============================] - 16s 8ms/step - loss: 0.3825 - accuracy: 0.8661 - val_loss: 1.0554 - val_accuracy: 0.6945\n",
            "Epoch 26/30\n",
            "1562/1562 [==============================] - 16s 8ms/step - loss: 0.3505 - accuracy: 0.8791 - val_loss: 1.0729 - val_accuracy: 0.6976\n",
            "Epoch 27/30\n",
            "1562/1562 [==============================] - 16s 8ms/step - loss: 0.3154 - accuracy: 0.8913 - val_loss: 1.0869 - val_accuracy: 0.6966\n",
            "Epoch 28/30\n",
            "1562/1562 [==============================] - 16s 8ms/step - loss: 0.2847 - accuracy: 0.9007 - val_loss: 1.1383 - val_accuracy: 0.6963\n",
            "Epoch 29/30\n",
            "1562/1562 [==============================] - 16s 8ms/step - loss: 0.2593 - accuracy: 0.9108 - val_loss: 1.1608 - val_accuracy: 0.6981\n",
            "Epoch 30/30\n",
            "1562/1562 [==============================] - 16s 8ms/step - loss: 0.2359 - accuracy: 0.9191 - val_loss: 1.2052 - val_accuracy: 0.6940\n"
          ]
        }
      ]
    },
    {
      "cell_type": "code",
      "source": [
        "pd.DataFrame(history.history).plot(figsize=(8, 5))\n",
        "plt.grid(True)\n",
        "plt.gca().set_ylim(0, 2.3) # set the vertical range to [0-1]\n",
        "plt.show()"
      ],
      "metadata": {
        "colab": {
          "base_uri": "https://localhost:8080/",
          "height": 320
        },
        "id": "8wVvHYvw3oTd",
        "outputId": "ea3aa2b7-6a67-46f1-c98c-ac3464b50582"
      },
      "execution_count": 56,
      "outputs": [
        {
          "output_type": "display_data",
          "data": {
            "text/plain": [
              "<Figure size 576x360 with 1 Axes>"
            ],
            "image/png": "[encoded data removed]"
          },
          "metadata": {
            "needs_background": "light"
          }
        }
      ]
    }
  ]
}
